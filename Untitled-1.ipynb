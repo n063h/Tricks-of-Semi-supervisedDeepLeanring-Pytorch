{
 "cells": [
  {
   "cell_type": "code",
   "execution_count": 1,
   "metadata": {},
   "outputs": [],
   "source": [
    "import torch\n",
    "import numpy as np"
   ]
  },
  {
   "cell_type": "code",
   "execution_count": 2,
   "metadata": {},
   "outputs": [
    {
     "data": {
      "text/plain": [
       "['--dataset=wscifar10',\n",
       " '--sup-batch-size=100',\n",
       " '--usp-batch-size=100',\n",
       " '--label-exclude=False',\n",
       " '--num-labels=4000',\n",
       " '--arch=cnn13',\n",
       " '--model=ifixmatch',\n",
       " '--threshold=.95',\n",
       " '--usp-weight=1.',\n",
       " '--ema-decay=0.97',\n",
       " '--optim=sgd',\n",
       " '--epochs=400',\n",
       " '--lr=0.1',\n",
       " '--momentum=0.9',\n",
       " '--weight-decay=5e-4',\n",
       " '--nesterov=True',\n",
       " '--lr-scheduler=cos',\n",
       " '--min-lr=1e-4',\n",
       " '--rampup-length=80',\n",
       " '--rampdown-length=50',\n",
       " '--data-twice=False',\n",
       " '--save-freq=0']"
      ]
     },
     "execution_count": 2,
     "metadata": {},
     "output_type": "execute_result"
    }
   ],
   "source": [
    "a.split(\" \")"
   ]
  },
  {
   "cell_type": "code",
   "execution_count": 2,
   "metadata": {},
   "outputs": [],
   "source": [
    "def exp_rampup(rampup_length):\n",
    "    \"\"\"Exponential rampup from https://arxiv.org/abs/1610.02242\"\"\"\n",
    "    def warpper(epoch):\n",
    "        if epoch < rampup_length:\n",
    "            epoch = np.clip(epoch, 0.0, rampup_length)\n",
    "            phase = 1.0 - epoch / rampup_length\n",
    "            return float(np.exp(-5.0 * phase * phase))\n",
    "        else:\n",
    "            return 1.0\n",
    "    return warpper"
   ]
  },
  {
   "cell_type": "code",
   "execution_count": 16,
   "metadata": {},
   "outputs": [
    {
     "data": {
      "text/plain": [
       "[7.4206579551288305, 2.2988125946874356, 0.10100277638543483, 0.05, 0.05]"
      ]
     },
     "execution_count": 16,
     "metadata": {},
     "output_type": "execute_result"
    }
   ],
   "source": [
    "inner=exp_rampup(80) \n",
    "[0.05/(inner(i)) for i in [0,10,50,100,150]]"
   ]
  },
  {
   "cell_type": "code",
   "execution_count": 11,
   "metadata": {},
   "outputs": [
    {
     "data": {
      "text/plain": [
       "[5.346755608660925, 0.4613907176069765, 0.05, 0.05]"
      ]
     },
     "execution_count": 11,
     "metadata": {},
     "output_type": "execute_result"
    }
   ],
   "source": []
  },
  {
   "cell_type": "code",
   "execution_count": null,
   "metadata": {},
   "outputs": [],
   "source": [
    "1     0.2"
   ]
  }
 ],
 "metadata": {
  "interpreter": {
   "hash": "e2897d4a2ebc521b8fc26c88a51a1de9618c0c5769e78746fd27aeca73195b40"
  },
  "kernelspec": {
   "display_name": "Python 3.7.9 ('nir_py37_torch1.6')",
   "language": "python",
   "name": "python3"
  },
  "language_info": {
   "codemirror_mode": {
    "name": "ipython",
    "version": 3
   },
   "file_extension": ".py",
   "mimetype": "text/x-python",
   "name": "python",
   "nbconvert_exporter": "python",
   "pygments_lexer": "ipython3",
   "version": "3.7.13"
  },
  "orig_nbformat": 4
 },
 "nbformat": 4,
 "nbformat_minor": 2
}
