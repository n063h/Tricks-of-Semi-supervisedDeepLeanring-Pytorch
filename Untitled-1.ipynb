{
 "cells": [
  {
   "cell_type": "code",
   "execution_count": 26,
   "metadata": {},
   "outputs": [],
   "source": [
    "import torch,json\n",
    "from collections import *\n",
    "import time,datetime\n",
    "import numpy as np\n",
    "cls_50 = ['_R_P_SP',\n",
    "            '_C_L',\n",
    "            '_L',\n",
    "            '_C',\n",
    "            '_P_SP',\n",
    "            '_R_SP_N',\n",
    "            '_C_P',\n",
    "            '_P_W',\n",
    "            '_R_P',\n",
    "            '_P',\n",
    "            '_C_P_SP',\n",
    "            '_R_P_SP_N',\n",
    "            '_R',\n",
    "            '_C_SP_N',\n",
    "            '_W',\n",
    "            '_R_SP',\n",
    "            '_W_SP',\n",
    "            '_C_SP',\n",
    "            '_R_L',\n",
    "            '_W_N_A',\n",
    "            '_C_N',\n",
    "            '_P_A',\n",
    "            '_SP_N',\n",
    "            '_R_N',\n",
    "            '_W_A',\n",
    "            '_N',\n",
    "            '_P_SP_A',\n",
    "            '_P_SP_N_A',\n",
    "            '_N_A',\n",
    "            '_P_N',\n",
    "            '_V_N',\n",
    "            '_P_W_A',\n",
    "            '_P_W_N_A',\n",
    "            '_W_SP_N_A',\n",
    "            '_CA',\n",
    "            '_SP_N_A',\n",
    "            '_R_TEN',\n",
    "            '_C_A',\n",
    "            '_TEN',\n",
    "            '_R_V',\n",
    "            '_W_CA',\n",
    "            '_P_W_SP_N_A',\n",
    "            '_C_R',\n",
    "            '_P_W_SP_A',\n",
    "            '_S',\n",
    "            '_W_S',\n",
    "            '_P_N_A',\n",
    "            '_M_P',\n",
    "            '_M_SP',\n",
    "            '_V_P'\n",
    "            ]"
   ]
  },
  {
   "cell_type": "code",
   "execution_count": null,
   "metadata": {},
   "outputs": [],
   "source": [
    "def get_data(filename,data_range=(0,1)):\n",
    "    data=[]\n",
    "    target=[]\n",
    "    json_data=extract_json(filename)\n",
    "    for c in cls_50:\n",
    "        if c not in json_data:continue\n",
    "        for item in json_data[c]:\n",
    "            r = np.array(item['r'])\n",
    "            cls_ind = float(x_y_dic[c])\n",
    "            data.append(r)\n",
    "            target.append(cls_ind)\n",
    "    return np.array(data),np.array(target)"
   ]
  },
  {
   "cell_type": "code",
   "execution_count": 34,
   "metadata": {},
   "outputs": [],
   "source": [
    "def read_line(line):\n",
    "    if not line:\n",
    "        return\n",
    "    try:\n",
    "        data=json.loads(line)\n",
    "    except Exception as e:\n",
    "        return\n",
    "    label,d=list(data.items())[0]\n",
    "    if label not in cls_50:\n",
    "        return\n",
    "    _y=cls_50.index(label)\n",
    "    _x=[d['i'],d['r'],d['a']]\n",
    "    return _x,_y\n",
    "    \n",
    "def extract_json(filename):\n",
    "    x,y=[],[]\n",
    "    with open(filename,encoding='UTF-8') as f:\n",
    "        for line in f.readlines():\n",
    "            ret=read_line(line)\n",
    "            if not ret:\n",
    "                continue\n",
    "            x.append(ret[0])\n",
    "            y.append(ret[1])\n",
    "    return x,y\n",
    "\n",
    "def save_to_npy(x,y,filename):\n",
    "    np.save(filename+'_x.npy',x)\n",
    "    np.save(filename+'_y.npy',y)\n",
    "    \n",
    "def read_npy(filename):\n",
    "    x=np.load(filename+'_x.npy')\n",
    "    y=np.load(filename+'_y.npy')\n",
    "    return x,y\n",
    "\n",
    "test_x,test_y=extract_json('test.json')\n",
    "train_x,train_y=extract_json('train.json')\n",
    "save_to_npy(test_x,test_y,'test')\n",
    "save_to_npy(train_x,train_y,'train')\n",
    "test_x,test_y=read_npy('test')\n",
    "train_x,train_y=read_npy('train')"
   ]
  },
  {
   "cell_type": "code",
   "execution_count": 40,
   "metadata": {},
   "outputs": [],
   "source": [
    "NO_LABEL=-1\n",
    "def encode_label(label):\n",
    "    return NO_LABEL* (label +1)\n",
    "\n",
    "def split(target,ratio):\n",
    "    c=Counter(target)\n",
    "    q=[(int(i),int(j*ratio)) for (i,j) in  c.items()]\n",
    "    label_idx,unlabel_idx=[],[]\n",
    "    for cls_ind,label_num in q:\n",
    "        idx=np.where(target==cls_ind)[0]\n",
    "        np.random.shuffle(idx)\n",
    "        label_idx.extend(idx[:label_num])\n",
    "        unlabel_idx.extend(idx[label_num:])\n",
    "    np.random.shuffle(label_idx)\n",
    "    np.random.shuffle(unlabel_idx)\n",
    "    for idx in unlabel_idx:\n",
    "        target[idx] = encode_label(target[idx])\n",
    "    return label_idx,unlabel_idx\n",
    "\n",
    "lab,unlab=split(test_y,0.1)"
   ]
  },
  {
   "cell_type": "code",
   "execution_count": 51,
   "metadata": {},
   "outputs": [
    {
     "data": {
      "text/plain": [
       "['--dataset',\n",
       " 'cls50',\n",
       " '--sup-batch-size',\n",
       " '100',\n",
       " '--usp-batch-size',\n",
       " '100',\n",
       " '--label-exclude',\n",
       " 'False',\n",
       " '--num-labels',\n",
       " '400',\n",
       " '--label-ratio',\n",
       " '0.1',\n",
       " '--arch',\n",
       " 'resnet1D',\n",
       " '--model',\n",
       " 'efixmatch',\n",
       " '--threshold',\n",
       " '.95',\n",
       " '--usp-weight',\n",
       " '1.',\n",
       " '--ema-decay',\n",
       " '0.97',\n",
       " '--optim',\n",
       " 'sgd',\n",
       " '--epochs',\n",
       " '150',\n",
       " '--lr',\n",
       " '0.1',\n",
       " '--momentum',\n",
       " '0.9',\n",
       " '--weight-decay',\n",
       " '5e-4',\n",
       " '--nesterov',\n",
       " 'True',\n",
       " '--lr-scheduler',\n",
       " 'cos',\n",
       " '--min-lr',\n",
       " '1e-4',\n",
       " '--rampup-length',\n",
       " '80',\n",
       " '--rampdown-length',\n",
       " '50',\n",
       " '--data-twice',\n",
       " 'False',\n",
       " '--data-idxs',\n",
       " 'True',\n",
       " '--save-freq',\n",
       " '0']"
      ]
     },
     "execution_count": 51,
     "metadata": {},
     "output_type": "execute_result"
    }
   ],
   "source": [
    "s=\"--dataset=cls50 --sup-batch-size=100 --usp-batch-size=100 --label-exclude=False --num-labels=400 --label-ratio=0.1 --arch=resnet1D --model=efixmatch --threshold=.95 --usp-weight=1. --ema-decay=0.97 --optim=sgd --epochs=150 --lr=0.1 --momentum=0.9 --weight-decay=5e-4 --nesterov=True --lr-scheduler=cos --min-lr=1e-4 --rampup-length=80 --rampdown-length=50 --data-twice=False --data-idxs=True --save-freq=0\"\n",
    "\n",
    "s.replace('=','\\n').replace(\" \",'\\n').split('\\n')"
   ]
  },
  {
   "cell_type": "code",
   "execution_count": 54,
   "metadata": {},
   "outputs": [
    {
     "name": "stdout",
     "output_type": "stream",
     "text": [
      "0:00:01\n"
     ]
    }
   ],
   "source": [
    "t1=datetime.datetime.now()\n",
    "t2=t1+datetime.timedelta(seconds=1)\n",
    "print(f\"{t2-t1}\")"
   ]
  },
  {
   "cell_type": "code",
   "execution_count": 13,
   "metadata": {},
   "outputs": [],
   "source": [
    "xx=np.array(x)\n",
    "yy=np.array(y)"
   ]
  },
  {
   "cell_type": "code",
   "execution_count": 21,
   "metadata": {},
   "outputs": [],
   "source": [
    "np.save(\"test_x.npy\",xx)"
   ]
  },
  {
   "cell_type": "code",
   "execution_count": null,
   "metadata": {},
   "outputs": [],
   "source": [
    "def read_json(filename):\n",
    "    with open(filename, encoding='UTF-8') as f:\n",
    "        for line in f.readlines():\n",
    "            if line:\n",
    "                line = json.loads(line)\n",
    "            else:\n",
    "                break\n",
    "            tuple = list(line.keys())[0]\n",
    "            if not data.get(tuple):\n",
    "                data[tuple] = []\n",
    "            cnt+=1\n",
    "            # if cnt>500:break\n",
    "            data[tuple].append(line[tuple])\n",
    "    return data"
   ]
  }
 ],
 "metadata": {
  "kernelspec": {
   "display_name": "py38",
   "language": "python",
   "name": "python3"
  },
  "language_info": {
   "codemirror_mode": {
    "name": "ipython",
    "version": 3
   },
   "file_extension": ".py",
   "mimetype": "text/x-python",
   "name": "python",
   "nbconvert_exporter": "python",
   "pygments_lexer": "ipython3",
   "version": "3.8.15"
  },
  "orig_nbformat": 4,
  "vscode": {
   "interpreter": {
    "hash": "84273b81cdc42a3264e484c6789250ffbb1f676ed6cfb3490cefbba355fcc21f"
   }
  }
 },
 "nbformat": 4,
 "nbformat_minor": 2
}
